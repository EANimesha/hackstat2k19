{
 "cells": [
  {
   "cell_type": "code",
   "execution_count": 2,
   "metadata": {},
   "outputs": [],
   "source": [
    "import pandas as pd\n",
    "import numpy as np\n",
    "\n",
    "train_datasets= pd.read_csv('Trainset.csv')"
   ]
  },
  {
   "cell_type": "code",
   "execution_count": 3,
   "metadata": {},
   "outputs": [],
   "source": [
    "replace_map1 = {'Month':\n",
    "                {'Jan':1,'Feb':2,'Mar':3,'April':4,'May':5,'June':6,'Jul':7,'Aug':8,'Sep':9,'Oct':10,'Nov':11,'Dec':12}}\n",
    "\n",
    "train_dataset_replaced = train_datasets.copy()\n",
    "train_dataset_replaced.replace(replace_map1, inplace=True)\n",
    "\n",
    "replace_map2 = {'VisitorType':{'New_Visitor':1,'Returning_Visitor':2,'Other':3}}\n",
    "train_dataset_replaced.replace(replace_map2, inplace=True)\n",
    "\n",
    "train_dataset_replaced['Weekend'] = train_dataset_replaced.Weekend.astype(int)\n",
    "\n",
    "train_dataset_replaced.fillna(train_dataset_replaced.mean(), inplace=True)"
   ]
  },
  {
   "cell_type": "code",
   "execution_count": 4,
   "metadata": {},
   "outputs": [],
   "source": [
    "x_train = train_dataset_replaced.iloc[:, :-1].values #makes a 2d array\n",
    "y_train= train_dataset_replaced.iloc[:, 17].values  #makes simple array"
   ]
  },
  {
   "cell_type": "code",
   "execution_count": 5,
   "metadata": {},
   "outputs": [
    {
     "data": {
      "text/plain": [
       "array([1, 0, 0, 1, 0, 1, 0, 1, 0, 0, 0, 0, 0, 0, 0, 0, 1, 0, 0, 0],\n",
       "      dtype=int64)"
      ]
     },
     "execution_count": 5,
     "metadata": {},
     "output_type": "execute_result"
    }
   ],
   "source": [
    "y_train[:20]"
   ]
  },
  {
   "cell_type": "code",
   "execution_count": 25,
   "metadata": {},
   "outputs": [],
   "source": [
    "test_datasets=pd.read_csv('xtest.csv')\n",
    "\n",
    "test_dataset_replaced = test_datasets.copy()\n",
    "test_dataset_replaced.replace(replace_map1, inplace=True)\n",
    "\n",
    "test_dataset_replaced.replace(replace_map2, inplace=True)\n",
    "\n",
    "test_dataset_replaced['Weekend'] = train_dataset_replaced.Weekend.astype(int)\n",
    "\n",
    "test_dataset_replaced.fillna(train_dataset_replaced.mean(), inplace=True)"
   ]
  },
  {
   "cell_type": "code",
   "execution_count": 26,
   "metadata": {},
   "outputs": [],
   "source": [
    "x_test=test_dataset_replaced.iloc[:,1 :].values"
   ]
  },
  {
   "cell_type": "code",
   "execution_count": 27,
   "metadata": {},
   "outputs": [],
   "source": [
    "# ##### Linear REgression...\n",
    "# from sklearn.linear_model import LinearRegression\n",
    "# clsfr=LinearRegression()\n",
    "# clsfr.fit(x_train,y_train)\n",
    "\n",
    "# result=clsfr.predict(x_test)\n",
    "\n",
    "# result=np.around(np.array(result)).astype(int).astype(bool).astype(int)\n",
    "\n",
    "# # print('test values:',y_test)\n",
    "# print('predicted values:',result)\n",
    "\n",
    "# # from sklearn.metrics import accuracy_score\n",
    "# # accuracy=accuracy_score(y_test,result)\n",
    "# # print('accuracy:',accuracy)"
   ]
  },
  {
   "cell_type": "code",
   "execution_count": 28,
   "metadata": {},
   "outputs": [],
   "source": [
    "### decision tree\n",
    "from sklearn import tree\n",
    "\n",
    "clsfr=tree.DecisionTreeClassifier()\n",
    "clsfr.fit(x_train,y_train)\n",
    "result=clsfr.predict(x_test)\n",
    "\n",
    "result=np.around(np.array(result)).astype(int)\n",
    "# .astype(bool).astype(int)\n",
    "\n",
    "# from sklearn import metrics\n",
    "\n",
    "# accuracy=metrics.accuracy_score(y_test,results)\n",
    "\n",
    "# print('Accuracy',accuracy)"
   ]
  },
  {
   "cell_type": "code",
   "execution_count": 29,
   "metadata": {},
   "outputs": [],
   "source": [
    "array_new=test_datasets.iloc[:,:1]"
   ]
  },
  {
   "cell_type": "code",
   "execution_count": 30,
   "metadata": {},
   "outputs": [],
   "source": [
    "output=np.column_stack((array_new,result))"
   ]
  },
  {
   "cell_type": "code",
   "execution_count": 31,
   "metadata": {},
   "outputs": [],
   "source": [
    "# dt = {'names':['ID', 'Revenue'], 'formats':[np.int32, np.int32]}\n",
    "# output.dtype=dt"
   ]
  },
  {
   "cell_type": "code",
   "execution_count": 32,
   "metadata": {},
   "outputs": [],
   "source": [
    "# pd.DataFrame(output).to_csv(\"file.csv\")"
   ]
  },
  {
   "cell_type": "code",
   "execution_count": 33,
   "metadata": {},
   "outputs": [
    {
     "data": {
      "text/plain": [
       "array([[   1,    0],\n",
       "       [   2,    0],\n",
       "       [   3,    0],\n",
       "       ...,\n",
       "       [1848,    0],\n",
       "       [1849,    0],\n",
       "       [1850,    0]], dtype=int64)"
      ]
     },
     "execution_count": 33,
     "metadata": {},
     "output_type": "execute_result"
    }
   ],
   "source": [
    "output"
   ]
  },
  {
   "cell_type": "code",
   "execution_count": 34,
   "metadata": {
    "scrolled": true
   },
   "outputs": [],
   "source": [
    "np.savetxt('submission1.csv', output,fmt=\"%d\",delimiter=',', header='')"
   ]
  },
  {
   "cell_type": "code",
   "execution_count": null,
   "metadata": {},
   "outputs": [],
   "source": []
  }
 ],
 "metadata": {
  "kernelspec": {
   "display_name": "Python 2",
   "language": "python",
   "name": "python2"
  },
  "language_info": {
   "codemirror_mode": {
    "name": "ipython",
    "version": 2
   },
   "file_extension": ".py",
   "mimetype": "text/x-python",
   "name": "python",
   "nbconvert_exporter": "python",
   "pygments_lexer": "ipython2",
   "version": "2.7.16"
  }
 },
 "nbformat": 4,
 "nbformat_minor": 2
}
