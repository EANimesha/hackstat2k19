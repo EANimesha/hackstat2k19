{
 "cells": [
  {
   "cell_type": "code",
   "execution_count": 7,
   "metadata": {},
   "outputs": [],
   "source": [
    "import pandas as pd\n",
    "import numpy as np\n",
    "\n",
    "train_datasets= pd.read_csv('Trainset.csv')\n",
    "\n",
    "x_train = train_datasets.iloc[:, :-1].values #makes a 2d array\n",
    "y_train = train_datasets.iloc[:, 17].values  #makes simple array\n",
    "\n",
    "test_datasets= pd.read_csv('xtest.csv')\n",
    "\n",
    "x_test = test_datasets.iloc[:, :].values #makes a 2d array\n"
   ]
  },
  {
   "cell_type": "code",
   "execution_count": null,
   "metadata": {},
   "outputs": [],
   "source": [
    "from sklearn.linear_model import LinearRegression\n",
    "clsfr=LinearRegression()\n",
    "clsfr.fit(x_train,y_train)\n",
    "\n",
    "result=clsfr.predict(x_test)\n",
    "print('predicted values:',result)"
   ]
  }
 ],
 "metadata": {
  "kernelspec": {
   "display_name": "Python 2",
   "language": "python",
   "name": "python2"
  },
  "language_info": {
   "codemirror_mode": {
    "name": "ipython",
    "version": 2
   },
   "file_extension": ".py",
   "mimetype": "text/x-python",
   "name": "python",
   "nbconvert_exporter": "python",
   "pygments_lexer": "ipython2",
   "version": "2.7.16"
  }
 },
 "nbformat": 4,
 "nbformat_minor": 2
}
