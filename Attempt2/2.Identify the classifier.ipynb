{
 "cells": [
  {
   "cell_type": "code",
   "execution_count": 69,
   "metadata": {},
   "outputs": [],
   "source": [
    "import pandas as pd\n",
    "import numpy as np\n",
    "\n",
    "train_datasets= pd.read_csv('cleaned_traindataset.csv')"
   ]
  },
  {
   "cell_type": "code",
   "execution_count": 77,
   "metadata": {},
   "outputs": [],
   "source": [
    "\n",
    "x = train_datasets.iloc[:, :-1].values #makes a 2d array\n",
    "y = train_datasets.iloc[:, 19].values  #makes simple array\n",
    "\n",
    "from sklearn.model_selection import train_test_split\n",
    "x_train,x_test,y_train,y_test=train_test_split(x,y,test_size=0.1,random_state=0)\n"
   ]
  },
  {
   "cell_type": "code",
   "execution_count": 75,
   "metadata": {},
   "outputs": [
    {
     "name": "stdout",
     "output_type": "stream",
     "text": [
      "('test values:', array([0, 0, 0, ..., 1, 0, 0], dtype=int64))\n",
      "('predicted values:', array([0, 0, 0, ..., 0, 0, 0]))\n",
      "('accuracy:', 0.8764312977099237)\n"
     ]
    }
   ],
   "source": [
    "##### Linear REgression...\n",
    "from sklearn.linear_model import LinearRegression\n",
    "clsfr=LinearRegression()\n",
    "clsfr.fit(x_train,y_train)\n",
    "\n",
    "result=clsfr.predict(x_test)\n",
    "result=np.array(result)\n",
    "result=np.around(result).astype(int)\n",
    "\n",
    "print('test values:',y_test)\n",
    "print('predicted values:',result)\n",
    "\n",
    "from sklearn.metrics import accuracy_score\n",
    "accuracy=accuracy_score(y_test,result)\n",
    "print('accuracy:',accuracy)"
   ]
  },
  {
   "cell_type": "code",
   "execution_count": 76,
   "metadata": {},
   "outputs": [
    {
     "name": "stdout",
     "output_type": "stream",
     "text": [
      "('Accuracy', 0.8616412213740458)\n"
     ]
    }
   ],
   "source": [
    "### decision tree\n",
    "from sklearn import tree\n",
    "\n",
    "clsfr=tree.DecisionTreeClassifier()\n",
    "clsfr.fit(x_train,y_train)\n",
    "results=clsfr.predict(x_test)\n",
    "\n",
    "result=clsfr.predict(x_test)\n",
    "result=np.array(result)\n",
    "result=np.around(result).astype(int)\n",
    "\n",
    "from sklearn import metrics\n",
    "\n",
    "accuracy=metrics.accuracy_score(y_test,results)\n",
    "\n",
    "print('Accuracy',accuracy)"
   ]
  },
  {
   "cell_type": "code",
   "execution_count": 67,
   "metadata": {},
   "outputs": [
    {
     "name": "stdout",
     "output_type": "stream",
     "text": [
      "('accuracy:', 0.8568702290076335)\n"
     ]
    }
   ],
   "source": [
    "##### KNN Classifier\n",
    "from sklearn.neighbors import KNeighborsClassifier  #load KNN classifier\n",
    "clsfr=KNeighborsClassifier(n_neighbors=7)\n",
    "clsfr.fit(x_train,y_train)\n",
    "\n",
    "\n",
    "result=clsfr.predict(x_test)\n",
    "result=np.array(result)\n",
    "result=np.around(result).astype(int)\n",
    "\n",
    "# print('Predicted',result)\n",
    "# print('Actual',test_target)\n",
    "\n",
    "from sklearn.metrics import accuracy_score\n",
    "accuracy=accuracy_score(y_test,result)\n",
    "print('accuracy:',accuracy)"
   ]
  },
  {
   "cell_type": "code",
   "execution_count": 68,
   "metadata": {},
   "outputs": [
    {
     "name": "stdout",
     "output_type": "stream",
     "text": [
      "('accuracy:', 0.8520992366412213)\n"
     ]
    }
   ],
   "source": [
    "### Support Vector Classifier\n",
    "from sklearn.svm import SVC # SVC==support vector classifier\n",
    "\n",
    "clsfr=SVC()\n",
    "clsfr.fit(x_train,y_train)\n",
    "results=clsfr.predict(x_test)\n",
    "\n",
    "result=clsfr.predict(x_test)\n",
    "result=np.array(result)\n",
    "result=np.around(result).astype(int)\n",
    "\n",
    "from sklearn.metrics import accuracy_score\n",
    "accuracy=accuracy_score(y_test,results)\n",
    "print('accuracy:',accuracy)\n"
   ]
  },
  {
   "cell_type": "code",
   "execution_count": null,
   "metadata": {},
   "outputs": [],
   "source": []
  }
 ],
 "metadata": {
  "kernelspec": {
   "display_name": "Python 2",
   "language": "python",
   "name": "python2"
  },
  "language_info": {
   "codemirror_mode": {
    "name": "ipython",
    "version": 2
   },
   "file_extension": ".py",
   "mimetype": "text/x-python",
   "name": "python",
   "nbconvert_exporter": "python",
   "pygments_lexer": "ipython2",
   "version": "2.7.16"
  }
 },
 "nbformat": 4,
 "nbformat_minor": 2
}
