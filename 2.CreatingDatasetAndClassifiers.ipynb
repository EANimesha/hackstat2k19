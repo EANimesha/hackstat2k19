{
 "cells": [
  {
   "cell_type": "code",
   "execution_count": 1,
   "metadata": {},
   "outputs": [],
   "source": [
    "import pandas as pd\n",
    "import numpy as np\n",
    "\n",
    "train_datasets= pd.read_csv('Trainset.csv')\n"
   ]
  },
  {
   "cell_type": "code",
   "execution_count": 2,
   "metadata": {},
   "outputs": [],
   "source": [
    "replace_map1 = {'Month':\n",
    "                {'Jan':1,'Feb':2,'Mar':3,'April':4,'May':5,'June':6,'Jul':7,'Aug':8,'Sep':9,'Oct':10,'Nov':11,'Dec':12}}\n",
    "\n",
    "train_dataset_replaced = train_datasets.copy()\n",
    "train_dataset_replaced.replace(replace_map1, inplace=True)"
   ]
  },
  {
   "cell_type": "code",
   "execution_count": 3,
   "metadata": {},
   "outputs": [],
   "source": [
    "replace_map2 = {'VisitorType':{'New_Visitor':1,'Returning_Visitor':2,'Other':3}}\n",
    "train_dataset_replaced.replace(replace_map2, inplace=True)"
   ]
  },
  {
   "cell_type": "code",
   "execution_count": 4,
   "metadata": {},
   "outputs": [],
   "source": [
    "train_dataset_replaced['Weekend'] = train_dataset_replaced.Weekend.astype(int)"
   ]
  },
  {
   "cell_type": "code",
   "execution_count": 5,
   "metadata": {},
   "outputs": [],
   "source": [
    "# train_dataset_replaced.head()\n",
    "#made the dataset with numeric values"
   ]
  },
  {
   "cell_type": "code",
   "execution_count": 6,
   "metadata": {},
   "outputs": [],
   "source": [
    "train_dataset_replaced.fillna(train_dataset_replaced.mean(), inplace=True)\n",
    "\n",
    "x = train_dataset_replaced.iloc[:, :-1].values #makes a 2d array\n",
    "y = train_dataset_replaced.iloc[:, 17].values  #makes simple array\n",
    "\n",
    "from sklearn.model_selection import train_test_split\n",
    "x_train,x_test,y_train,y_test=train_test_split(x,y,test_size=0.1,random_state=0)\n"
   ]
  },
  {
   "cell_type": "code",
   "execution_count": 7,
   "metadata": {},
   "outputs": [
    {
     "name": "stdout",
     "output_type": "stream",
     "text": [
      "('accuracy:', 0.8845419847328244)\n"
     ]
    }
   ],
   "source": [
    "##### Linear REgression...\n",
    "from sklearn.linear_model import LinearRegression\n",
    "clsfr=LinearRegression()\n",
    "clsfr.fit(x_train,y_train)\n",
    "\n",
    "result=clsfr.predict(x_test)\n",
    "result=np.around(np.array(result)).astype(int).astype(bool).astype(int)\n",
    "\n",
    "# print('test values:',y_test)\n",
    "# print('predicted values:',result)\n",
    "\n",
    "from sklearn.metrics import accuracy_score\n",
    "accuracy=accuracy_score(y_test,result)\n",
    "print('accuracy:',accuracy)"
   ]
  },
  {
   "cell_type": "code",
   "execution_count": 14,
   "metadata": {},
   "outputs": [
    {
     "name": "stdout",
     "output_type": "stream",
     "text": [
      "('accuracy:', 0.8759541984732825)\n"
     ]
    }
   ],
   "source": [
    "##### KNN Classifier\n",
    "from sklearn.neighbors import KNeighborsClassifier  #load KNN classifier\n",
    "clsfr=KNeighborsClassifier(n_neighbors=35)\n",
    "clsfr.fit(x_train,y_train)\n",
    "\n",
    "result=clsfr.predict(x_test)\n",
    "result=np.around(np.array(result)).astype(int).astype(bool).astype(int)\n",
    "\n",
    "# print('Predicted',result)\n",
    "# print('Actual',test_target)\n",
    "\n",
    "from sklearn.metrics import accuracy_score\n",
    "accuracy=accuracy_score(y_test,result)\n",
    "print('accuracy:',accuracy)"
   ]
  },
  {
   "cell_type": "code",
   "execution_count": 11,
   "metadata": {},
   "outputs": [
    {
     "name": "stderr",
     "output_type": "stream",
     "text": [
      "C:\\Users\\Nimesha Dilini\\Anaconda2\\lib\\site-packages\\sklearn\\svm\\base.py:196: FutureWarning: The default value of gamma will change from 'auto' to 'scale' in version 0.22 to account better for unscaled features. Set gamma explicitly to 'auto' or 'scale' to avoid this warning.\n",
      "  \"avoid this warning.\", FutureWarning)\n"
     ]
    },
    {
     "name": "stdout",
     "output_type": "stream",
     "text": [
      "('accuracy:', 0.8520992366412213)\n"
     ]
    }
   ],
   "source": [
    "### Support Vector Classifier\n",
    "from sklearn.svm import SVC # SVC==support vector classifier\n",
    "\n",
    "clsfr=SVC()\n",
    "clsfr.fit(x_train,y_train)\n",
    "results=clsfr.predict(x_test)\n",
    "\n",
    "result=np.around(np.array(result)).astype(int).astype(bool).astype(int)\n",
    "\n",
    "from sklearn.metrics import accuracy_score\n",
    "accuracy=accuracy_score(y_test,results)\n",
    "print('accuracy:',accuracy)\n"
   ]
  },
  {
   "cell_type": "code",
   "execution_count": 12,
   "metadata": {},
   "outputs": [
    {
     "name": "stdout",
     "output_type": "stream",
     "text": [
      "('Accuracy', 0.8730916030534351)\n"
     ]
    }
   ],
   "source": [
    "### decision tree\n",
    "from sklearn import tree\n",
    "\n",
    "clsfr=tree.DecisionTreeClassifier()\n",
    "clsfr.fit(x_train,y_train)\n",
    "results=clsfr.predict(x_test)\n",
    "\n",
    "result=np.around(np.array(result)).astype(bool)\n",
    "\n",
    "from sklearn import metrics\n",
    "\n",
    "accuracy=metrics.accuracy_score(y_test,results)\n",
    "\n",
    "print('Accuracy',accuracy)"
   ]
  },
  {
   "cell_type": "code",
   "execution_count": null,
   "metadata": {},
   "outputs": [],
   "source": []
  }
 ],
 "metadata": {
  "kernelspec": {
   "display_name": "Python 2",
   "language": "python",
   "name": "python2"
  },
  "language_info": {
   "codemirror_mode": {
    "name": "ipython",
    "version": 2
   },
   "file_extension": ".py",
   "mimetype": "text/x-python",
   "name": "python",
   "nbconvert_exporter": "python",
   "pygments_lexer": "ipython2",
   "version": "2.7.16"
  }
 },
 "nbformat": 4,
 "nbformat_minor": 2
}
